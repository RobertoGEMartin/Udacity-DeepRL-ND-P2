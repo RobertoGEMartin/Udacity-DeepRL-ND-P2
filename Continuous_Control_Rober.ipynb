{
 "cells": [
  {
   "cell_type": "markdown",
   "metadata": {},
   "source": [
    "# Continuous Control\n",
    "\n",
    "---\n",
    "\n",
    "In this notebook, you will learn how to use the Unity ML-Agents environment for the second project of the [Deep Reinforcement Learning Nanodegree](https://www.udacity.com/course/deep-reinforcement-learning-nanodegree--nd893) program.\n",
    "\n",
    "### 1. Start the Environment\n",
    "\n",
    "We begin by importing the necessary packages.  If the code cell below returns an error, please revisit the project instructions to double-check that you have installed [Unity ML-Agents](https://github.com/Unity-Technologies/ml-agents/blob/master/docs/Installation.md) and [NumPy](http://www.numpy.org/)."
   ]
  },
  {
   "cell_type": "code",
   "execution_count": 1,
   "metadata": {},
   "outputs": [],
   "source": [
    "##https://ipython.org/ipython-doc/3/config/extensions/autoreload.html\n",
    "%load_ext autoreload\n",
    "%autoreload 2"
   ]
  },
  {
   "cell_type": "code",
   "execution_count": 2,
   "metadata": {},
   "outputs": [],
   "source": [
    "from unityagents import UnityEnvironment\n",
    "import numpy as np"
   ]
  },
  {
   "cell_type": "markdown",
   "metadata": {},
   "source": [
    "Next, we will start the environment!  **_Before running the code cell below_**, change the `file_name` parameter to match the location of the Unity environment that you downloaded.\n",
    "\n",
    "- **Mac**: `\"path/to/Reacher.app\"`\n",
    "- **Windows** (x86): `\"path/to/Reacher_Windows_x86/Reacher.exe\"`\n",
    "- **Windows** (x86_64): `\"path/to/Reacher_Windows_x86_64/Reacher.exe\"`\n",
    "- **Linux** (x86): `\"path/to/Reacher_Linux/Reacher.x86\"`\n",
    "- **Linux** (x86_64): `\"path/to/Reacher_Linux/Reacher.x86_64\"`\n",
    "- **Linux** (x86, headless): `\"path/to/Reacher_Linux_NoVis/Reacher.x86\"`\n",
    "- **Linux** (x86_64, headless): `\"path/to/Reacher_Linux_NoVis/Reacher.x86_64\"`\n",
    "\n",
    "For instance, if you are using a Mac, then you downloaded `Reacher.app`.  If this file is in the same folder as the notebook, then the line below should appear as follows:\n",
    "```\n",
    "env = UnityEnvironment(file_name=\"Reacher.app\")\n",
    "```"
   ]
  },
  {
   "cell_type": "code",
   "execution_count": 5,
   "metadata": {},
   "outputs": [
    {
     "name": "stderr",
     "output_type": "stream",
     "text": [
      "INFO:unityagents:\n",
      "'Academy' started successfully!\n",
      "Unity Academy name: Academy\n",
      "        Number of Brains: 1\n",
      "        Number of External Brains : 1\n",
      "        Lesson number : 0\n",
      "        Reset Parameters :\n",
      "\t\tgoal_speed -> 1.0\n",
      "\t\tgoal_size -> 5.0\n",
      "Unity brain name: ReacherBrain\n",
      "        Number of Visual Observations (per agent): 0\n",
      "        Vector Observation space type: continuous\n",
      "        Vector Observation space size (per agent): 33\n",
      "        Number of stacked Vector Observation: 1\n",
      "        Vector Action space type: continuous\n",
      "        Vector Action space size (per agent): 4\n",
      "        Vector Action descriptions: , , , \n"
     ]
    }
   ],
   "source": [
    "#Ubuntu headless\n",
    "#env = UnityEnvironment(file_name='./apps/Reacher_Linux_NoVis_One_Agent/Reacher.x86_64.app')\n",
    "#env = UnityEnvironment(file_name='./apps/Reacher_Linux_NoVis_20_Agents/Reacher.x86_64.app')\n",
    "\n",
    "#Mac\n",
    "env = UnityEnvironment(file_name='./apps/Reacher_20_agents.app')\n"
   ]
  },
  {
   "cell_type": "markdown",
   "metadata": {},
   "source": [
    "Environments contain **_brains_** which are responsible for deciding the actions of their associated agents. Here we check for the first brain available, and set it as the default brain we will be controlling from Python."
   ]
  },
  {
   "cell_type": "code",
   "execution_count": 6,
   "metadata": {},
   "outputs": [],
   "source": [
    "# get the default brain\n",
    "brain_name = env.brain_names[0]\n",
    "brain = env.brains[brain_name]"
   ]
  },
  {
   "cell_type": "markdown",
   "metadata": {},
   "source": [
    "### 2. Examine the State and Action Spaces\n",
    "\n",
    "In this environment, a double-jointed arm can move to target locations. A reward of `+0.1` is provided for each step that the agent's hand is in the goal location. Thus, the goal of your agent is to maintain its position at the target location for as many time steps as possible.\n",
    "\n",
    "The observation space consists of `33` variables corresponding to position, rotation, velocity, and angular velocities of the arm.  Each action is a vector with four numbers, corresponding to torque applicable to two joints.  Every entry in the action vector must be a number between `-1` and `1`.\n",
    "\n",
    "Run the code cell below to print some information about the environment."
   ]
  },
  {
   "cell_type": "code",
   "execution_count": 7,
   "metadata": {},
   "outputs": [
    {
     "name": "stdout",
     "output_type": "stream",
     "text": [
      "Number of agents: 20\n",
      "Size of each action: 4\n",
      "There are 20 agents. Each observes a state with length: 33\n",
      "The state for the first agent looks like: [ 0.00000000e+00 -4.00000000e+00  0.00000000e+00  1.00000000e+00\n",
      " -0.00000000e+00 -0.00000000e+00 -4.37113883e-08  0.00000000e+00\n",
      "  0.00000000e+00  0.00000000e+00  0.00000000e+00  0.00000000e+00\n",
      "  0.00000000e+00  0.00000000e+00 -1.00000000e+01  0.00000000e+00\n",
      "  1.00000000e+00 -0.00000000e+00 -0.00000000e+00 -4.37113883e-08\n",
      "  0.00000000e+00  0.00000000e+00  0.00000000e+00  0.00000000e+00\n",
      "  0.00000000e+00  0.00000000e+00  5.75471878e+00 -1.00000000e+00\n",
      "  5.55726624e+00  0.00000000e+00  1.00000000e+00  0.00000000e+00\n",
      " -1.68164849e-01]\n"
     ]
    }
   ],
   "source": [
    "# reset the environment\n",
    "env_info = env.reset(train_mode=True)[brain_name]\n",
    "\n",
    "# number of agents\n",
    "num_agents = len(env_info.agents)\n",
    "print('Number of agents:', num_agents)\n",
    "\n",
    "# size of each action\n",
    "action_size = brain.vector_action_space_size\n",
    "print('Size of each action:', action_size)\n",
    "\n",
    "# examine the state space \n",
    "states = env_info.vector_observations\n",
    "state_size = states.shape[1]\n",
    "print('There are {} agents. Each observes a state with length: {}'.format(states.shape[0], state_size))\n",
    "print('The state for the first agent looks like:', states[0])"
   ]
  },
  {
   "cell_type": "markdown",
   "metadata": {},
   "source": [
    "### 3. Take Random Actions in the Environment\n",
    "\n",
    "In the next code cell, you will learn how to use the Python API to control the agent and receive feedback from the environment.\n",
    "\n",
    "Once this cell is executed, you will watch the agent's performance, if it selects an action at random with each time step.  A window should pop up that allows you to observe the agent, as it moves through the environment.  \n",
    "\n",
    "Of course, as part of the project, you'll have to change the code so that the agent is able to use its experience to gradually choose better actions when interacting with the environment!"
   ]
  },
  {
   "cell_type": "markdown",
   "metadata": {},
   "source": [
    "env_info = env.reset(train_mode=False)[brain_name]     # reset the environment    \n",
    "states = env_info.vector_observations                  # get the current state (for each agent)\n",
    "scores = np.zeros(num_agents)                          # initialize the score (for each agent)\n",
    "while True:\n",
    "    actions = np.random.randn(num_agents, action_size) # select an action (for each agent)\n",
    "    actions = np.clip(actions, -1, 1)                  # all actions between -1 and 1\n",
    "    env_info = env.step(actions)[brain_name]           # send all actions to tne environment\n",
    "    next_states = env_info.vector_observations         # get next state (for each agent)\n",
    "    rewards = env_info.rewards                         # get reward (for each agent)\n",
    "    dones = env_info.local_done                        # see if episode finished\n",
    "    scores += env_info.rewards                         # update the score (for each agent)\n",
    "    states = next_states                               # roll over states to next time step\n",
    "    if np.any(dones):                                  # exit loop if episode finished\n",
    "        break\n",
    "print('Total score (averaged over agents) this episode: {}'.format(np.mean(scores)))"
   ]
  },
  {
   "cell_type": "markdown",
   "metadata": {},
   "source": [
    "When finished, you can close the environment."
   ]
  },
  {
   "cell_type": "markdown",
   "metadata": {},
   "source": [
    "env.close()"
   ]
  },
  {
   "cell_type": "markdown",
   "metadata": {},
   "source": [
    "### 4. It's Your Turn!\n",
    "\n",
    "Now it's your turn to train your own agent to solve the environment!  When training the environment, set `train_mode=True`, so that the line for resetting the environment looks like the following:\n",
    "```python\n",
    "env_info = env.reset(train_mode=True)[brain_name]\n",
    "```"
   ]
  },
  {
   "cell_type": "markdown",
   "metadata": {},
   "source": [
    "# 5. Init Agent"
   ]
  },
  {
   "cell_type": "code",
   "execution_count": 8,
   "metadata": {},
   "outputs": [
    {
     "name": "stdout",
     "output_type": "stream",
     "text": [
      "Actor(\n",
      "  (bn0): BatchNorm1d(33, eps=1e-05, momentum=0.1, affine=True, track_running_stats=True)\n",
      "  (fc1): Linear(in_features=33, out_features=128, bias=True)\n",
      "  (bn1): BatchNorm1d(128, eps=1e-05, momentum=0.1, affine=True, track_running_stats=True)\n",
      "  (fc2): Linear(in_features=128, out_features=128, bias=True)\n",
      "  (bn2): BatchNorm1d(128, eps=1e-05, momentum=0.1, affine=True, track_running_stats=True)\n",
      "  (fc3): Linear(in_features=128, out_features=4, bias=True)\n",
      ")\n",
      "Actor(\n",
      "  (bn0): BatchNorm1d(33, eps=1e-05, momentum=0.1, affine=True, track_running_stats=True)\n",
      "  (fc1): Linear(in_features=33, out_features=128, bias=True)\n",
      "  (bn1): BatchNorm1d(128, eps=1e-05, momentum=0.1, affine=True, track_running_stats=True)\n",
      "  (fc2): Linear(in_features=128, out_features=128, bias=True)\n",
      "  (bn2): BatchNorm1d(128, eps=1e-05, momentum=0.1, affine=True, track_running_stats=True)\n",
      "  (fc3): Linear(in_features=128, out_features=4, bias=True)\n",
      ")\n",
      "Critic(\n",
      "  (bn0): BatchNorm1d(33, eps=1e-05, momentum=0.1, affine=True, track_running_stats=True)\n",
      "  (fcs1): Linear(in_features=33, out_features=128, bias=True)\n",
      "  (fc2): Linear(in_features=132, out_features=128, bias=True)\n",
      "  (fc3): Linear(in_features=128, out_features=1, bias=True)\n",
      ")\n",
      "Critic(\n",
      "  (bn0): BatchNorm1d(33, eps=1e-05, momentum=0.1, affine=True, track_running_stats=True)\n",
      "  (fcs1): Linear(in_features=33, out_features=128, bias=True)\n",
      "  (fc2): Linear(in_features=132, out_features=128, bias=True)\n",
      "  (fc3): Linear(in_features=128, out_features=1, bias=True)\n",
      ")\n"
     ]
    }
   ],
   "source": [
    "from collections import deque\n",
    "from itertools import count\n",
    "import time\n",
    "import torch\n",
    "from ddpg_agent import Agent\n",
    "import matplotlib.pyplot as plt\n",
    "%matplotlib inline\n",
    "\n",
    "agent = Agent(state_size = state_size, action_size = action_size, random_seed = 111)\n"
   ]
  },
  {
   "cell_type": "code",
   "execution_count": 20,
   "metadata": {},
   "outputs": [],
   "source": [
    "# https://github.com/sksq96/pytorch-summary/\n",
    "#summary(your_model, input_size=(channels, H, W))\n",
    "from torchsummary import summary\n",
    "#dont' work\n",
    "#summary(agent.actor_local, input_size=(33,4))\n",
    "#summary(agent.critic_local, input_size=(33,1))"
   ]
  },
  {
   "cell_type": "markdown",
   "metadata": {},
   "source": [
    "# 6. Train Agent"
   ]
  },
  {
   "cell_type": "code",
   "execution_count": 7,
   "metadata": {},
   "outputs": [],
   "source": [
    "def ddpg(n_episodes=2000):\n",
    "    scores_deque = deque(maxlen=100)\n",
    "    scores_global = []\n",
    "        \n",
    "    for i_episode in range(1, n_episodes+1):\n",
    "        \n",
    "        timestep = time.time()\n",
    "        ###############\n",
    "        #GET/RESET/INIT FOR EACH AGENT\n",
    "        ###############\n",
    "        env_info = env.reset(train_mode=True)[brain_name]      # reset env    \n",
    "        states = env_info.vector_observations                  # get current state\n",
    "        scores = np.zeros(num_agents)                          # init score\n",
    "        \n",
    "        agent.reset()\n",
    "        score_average = 0\n",
    "      \n",
    "        for t in count():\n",
    "            actions = agent.act(states)                        # get actions\n",
    "            env_info = env.step(actions)[brain_name]           # send actions to env\n",
    "            next_states = env_info.vector_observations         # get next state\n",
    "            rewards = env_info.rewards                         # get reward\n",
    "            dones = env_info.local_done                        # get dones\n",
    "            \n",
    "            #Step agent\n",
    "            agent.step(states, actions, rewards, next_states, dones, t)\n",
    "\n",
    "            #update states and scores:\n",
    "            states = next_states                               # roll over states to next time step\n",
    "            scores += rewards                                  # update the score (for each agent)            \n",
    "            \n",
    "            if np.any(dones):                                  # exit loop if episode finished\n",
    "                break\n",
    "        \n",
    "        score = np.mean(scores)\n",
    "        scores_deque.append(score)\n",
    "        score_average = np.mean(scores_deque)\n",
    "        scores_global.append(score)\n",
    "        \n",
    "        print('\\rEpisode {}, Average Score: {:.2f}, Max: {:.2f}, Min: {:.2f}, Time: {:.2f}'\\\n",
    "              .format(i_episode, score_average, np.max(scores), np.min(scores), time.time() - timestep), end=\"\\n\")        \n",
    "        \n",
    "        if i_episode % 10 == 0:\n",
    "            print('.............Saving Checkpoints: Actor & Critic....................')\n",
    "            torch.save(agent.actor_local.state_dict(), './cp/cp_actor_cc_agent.pth')\n",
    "            torch.save(agent.critic_local.state_dict(), './cp/cp_critic_cc_agent.pth')\n",
    "            print('\\rEpisode {}\\tAverage Score: {:.2f}'.format(i_episode, np.mean(scores_deque)))   \n",
    "            \n",
    "        if score_average >= 30.0:\n",
    "            print('\\nEnvironment solved in {:d} episodes!\\tAverage Score: {:.2f}'.format(i_episode, score_average))            \n",
    "            print('.............Saving Checkpoints: Actor & Critic....................')\n",
    "            torch.save(agent.actor_local.state_dict(), './cp/cp_actor_cc_one_agent.pth')\n",
    "            torch.save(agent.critic_local.state_dict(), './cp/cp_critic_cc_one_agent.pth')\n",
    "            break            \n",
    "            \n",
    "    return scores_global"
   ]
  },
  {
   "cell_type": "code",
   "execution_count": 8,
   "metadata": {},
   "outputs": [
    {
     "name": "stdout",
     "output_type": "stream",
     "text": [
      "Episode 1, Average Score: 0.00, Max: 0.00, Min: 0.00, Time: 9.22\n",
      "Episode 2, Average Score: 0.37, Max: 1.62, Min: 0.12, Time: 9.92\n",
      "Episode 3, Average Score: 0.47, Max: 1.45, Min: 0.14, Time: 10.16\n",
      "Episode 4, Average Score: 0.48, Max: 1.10, Min: 0.00, Time: 10.39\n",
      "Episode 5, Average Score: 0.50, Max: 1.13, Min: 0.10, Time: 10.61\n",
      "Episode 6, Average Score: 0.55, Max: 2.22, Min: 0.00, Time: 10.82\n",
      "Episode 7, Average Score: 0.58, Max: 2.52, Min: 0.08, Time: 11.15\n",
      "Episode 8, Average Score: 0.58, Max: 1.44, Min: 0.00, Time: 11.53\n",
      "Episode 9, Average Score: 0.59, Max: 1.97, Min: 0.07, Time: 11.96\n",
      "Episode 10, Average Score: 0.58, Max: 0.92, Min: 0.00, Time: 12.26\n",
      ".............Saving Checkpoints: Actor & Critic....................\n",
      "Episode 10\tAverage Score: 0.58\n",
      "Episode 11, Average Score: 0.58, Max: 1.34, Min: 0.00, Time: 12.71\n",
      "Episode 12, Average Score: 0.56, Max: 1.13, Min: 0.00, Time: 13.19\n",
      "Episode 13, Average Score: 0.55, Max: 1.57, Min: 0.00, Time: 13.68\n",
      "Episode 14, Average Score: 0.57, Max: 2.14, Min: 0.23, Time: 14.16\n",
      "Episode 15, Average Score: 0.59, Max: 1.74, Min: 0.26, Time: 14.70\n",
      "Episode 16, Average Score: 0.62, Max: 2.93, Min: 0.12, Time: 15.04\n",
      "Episode 17, Average Score: 0.63, Max: 1.93, Min: 0.04, Time: 15.42\n",
      "Episode 18, Average Score: 0.65, Max: 1.77, Min: 0.32, Time: 15.98\n",
      "Episode 19, Average Score: 0.66, Max: 2.06, Min: 0.03, Time: 16.44\n",
      "Episode 20, Average Score: 0.70, Max: 3.11, Min: 0.25, Time: 16.73\n",
      ".............Saving Checkpoints: Actor & Critic....................\n",
      "Episode 20\tAverage Score: 0.70\n",
      "Episode 21, Average Score: 0.76, Max: 3.80, Min: 0.37, Time: 17.30\n",
      "Episode 22, Average Score: 0.80, Max: 3.28, Min: 0.64, Time: 17.82\n",
      "Episode 23, Average Score: 0.85, Max: 2.97, Min: 0.51, Time: 18.26\n",
      "Episode 24, Average Score: 0.90, Max: 3.99, Min: 0.86, Time: 18.77\n",
      "Episode 25, Average Score: 0.94, Max: 2.94, Min: 0.70, Time: 19.22\n",
      "Episode 26, Average Score: 0.98, Max: 3.45, Min: 0.28, Time: 19.63\n",
      "Episode 27, Average Score: 1.00, Max: 2.94, Min: 0.51, Time: 20.10\n",
      "Episode 28, Average Score: 1.04, Max: 3.68, Min: 0.69, Time: 20.56\n",
      "Episode 29, Average Score: 1.09, Max: 4.33, Min: 0.86, Time: 21.01\n",
      "Episode 30, Average Score: 1.13, Max: 4.38, Min: 1.17, Time: 21.35\n",
      ".............Saving Checkpoints: Actor & Critic....................\n",
      "Episode 30\tAverage Score: 1.13\n",
      "Episode 31, Average Score: 1.16, Max: 3.53, Min: 0.91, Time: 21.85\n",
      "Episode 32, Average Score: 1.20, Max: 4.51, Min: 1.01, Time: 21.94\n",
      "Episode 33, Average Score: 1.23, Max: 4.19, Min: 0.80, Time: 22.26\n",
      "Episode 34, Average Score: 1.27, Max: 3.75, Min: 1.39, Time: 22.90\n",
      "Episode 35, Average Score: 1.31, Max: 5.01, Min: 1.21, Time: 23.25\n",
      "Episode 36, Average Score: 1.36, Max: 4.39, Min: 1.77, Time: 23.94\n",
      "Episode 37, Average Score: 1.41, Max: 5.14, Min: 1.47, Time: 24.00\n",
      "Episode 38, Average Score: 1.47, Max: 6.01, Min: 2.03, Time: 24.46\n",
      "Episode 39, Average Score: 1.53, Max: 5.33, Min: 1.49, Time: 24.85\n",
      "Episode 40, Average Score: 1.58, Max: 5.31, Min: 1.08, Time: 25.47\n",
      ".............Saving Checkpoints: Actor & Critic....................\n",
      "Episode 40\tAverage Score: 1.58\n",
      "Episode 41, Average Score: 1.64, Max: 10.02, Min: 0.99, Time: 26.02\n",
      "Episode 42, Average Score: 1.68, Max: 6.50, Min: 0.91, Time: 26.25\n",
      "Episode 43, Average Score: 1.75, Max: 7.03, Min: 2.59, Time: 26.76\n",
      "Episode 44, Average Score: 1.79, Max: 7.11, Min: 1.54, Time: 27.32\n",
      "Episode 45, Average Score: 1.83, Max: 6.40, Min: 1.24, Time: 27.32\n",
      "Episode 46, Average Score: 1.89, Max: 6.45, Min: 1.96, Time: 28.17\n",
      "Episode 47, Average Score: 1.93, Max: 6.45, Min: 2.20, Time: 28.19\n",
      "Episode 48, Average Score: 1.99, Max: 7.83, Min: 0.94, Time: 28.96\n",
      "Episode 49, Average Score: 2.04, Max: 7.09, Min: 2.47, Time: 29.27\n",
      "Episode 50, Average Score: 2.10, Max: 6.95, Min: 2.80, Time: 30.08\n",
      ".............Saving Checkpoints: Actor & Critic....................\n",
      "Episode 50\tAverage Score: 2.10\n",
      "Episode 51, Average Score: 2.17, Max: 9.95, Min: 2.22, Time: 30.39\n",
      "Episode 52, Average Score: 2.25, Max: 12.72, Min: 2.65, Time: 30.50\n",
      "Episode 53, Average Score: 2.31, Max: 10.22, Min: 1.85, Time: 30.77\n",
      "Episode 54, Average Score: 2.37, Max: 9.93, Min: 2.71, Time: 30.20\n",
      "Episode 55, Average Score: 2.43, Max: 10.60, Min: 2.83, Time: 30.53\n",
      "Episode 56, Average Score: 2.48, Max: 10.74, Min: 2.56, Time: 30.31\n",
      "Episode 57, Average Score: 2.56, Max: 10.43, Min: 3.46, Time: 30.36\n",
      "Episode 58, Average Score: 2.63, Max: 9.78, Min: 3.45, Time: 30.24\n",
      "Episode 59, Average Score: 2.70, Max: 12.17, Min: 2.98, Time: 30.27\n",
      "Episode 60, Average Score: 2.78, Max: 15.27, Min: 2.94, Time: 30.65\n",
      ".............Saving Checkpoints: Actor & Critic....................\n",
      "Episode 60\tAverage Score: 2.78\n",
      "Episode 61, Average Score: 2.84, Max: 11.33, Min: 2.93, Time: 31.19\n",
      "Episode 62, Average Score: 2.92, Max: 10.27, Min: 3.43, Time: 30.80\n",
      "Episode 63, Average Score: 2.98, Max: 10.72, Min: 2.66, Time: 30.82\n",
      "Episode 64, Average Score: 3.04, Max: 9.89, Min: 4.47, Time: 30.44\n",
      "Episode 65, Average Score: 3.11, Max: 11.40, Min: 2.85, Time: 30.37\n",
      "Episode 66, Average Score: 3.18, Max: 10.91, Min: 4.34, Time: 30.22\n",
      "Episode 67, Average Score: 3.26, Max: 11.74, Min: 5.03, Time: 30.63\n",
      "Episode 68, Average Score: 3.31, Max: 9.62, Min: 3.52, Time: 30.37\n",
      "Episode 69, Average Score: 3.38, Max: 14.00, Min: 4.25, Time: 30.67\n",
      "Episode 70, Average Score: 3.45, Max: 11.03, Min: 5.52, Time: 30.32\n",
      ".............Saving Checkpoints: Actor & Critic....................\n",
      "Episode 70\tAverage Score: 3.45\n",
      "Episode 71, Average Score: 3.53, Max: 13.26, Min: 5.98, Time: 30.33\n",
      "Episode 72, Average Score: 3.63, Max: 14.01, Min: 6.29, Time: 30.34\n",
      "Episode 73, Average Score: 3.72, Max: 16.57, Min: 5.63, Time: 30.65\n",
      "Episode 74, Average Score: 3.80, Max: 13.57, Min: 6.26, Time: 30.95\n",
      "Episode 75, Average Score: 3.91, Max: 15.21, Min: 7.69, Time: 30.59\n",
      "Episode 76, Average Score: 4.02, Max: 15.41, Min: 7.00, Time: 30.29\n",
      "Episode 77, Average Score: 4.15, Max: 21.79, Min: 9.31, Time: 30.54\n",
      "Episode 78, Average Score: 4.27, Max: 20.30, Min: 9.56, Time: 30.14\n",
      "Episode 79, Average Score: 4.41, Max: 20.12, Min: 5.87, Time: 30.35\n",
      "Episode 80, Average Score: 4.53, Max: 21.78, Min: 5.67, Time: 30.52\n",
      ".............Saving Checkpoints: Actor & Critic....................\n",
      "Episode 80\tAverage Score: 4.53\n",
      "Episode 81, Average Score: 4.67, Max: 25.02, Min: 10.75, Time: 30.80\n",
      "Episode 82, Average Score: 4.82, Max: 21.96, Min: 13.22, Time: 30.59\n",
      "Episode 83, Average Score: 4.97, Max: 23.23, Min: 13.30, Time: 30.94\n",
      "Episode 84, Average Score: 5.12, Max: 23.62, Min: 9.42, Time: 30.52\n",
      "Episode 85, Average Score: 5.26, Max: 24.94, Min: 6.02, Time: 30.53\n",
      "Episode 86, Average Score: 5.42, Max: 24.33, Min: 13.91, Time: 30.47\n",
      "Episode 87, Average Score: 5.57, Max: 25.52, Min: 8.70, Time: 30.91\n",
      "Episode 88, Average Score: 5.73, Max: 24.46, Min: 11.95, Time: 31.00\n",
      "Episode 89, Average Score: 5.89, Max: 26.99, Min: 15.58, Time: 30.97\n",
      "Episode 90, Average Score: 6.05, Max: 26.25, Min: 12.38, Time: 30.90\n",
      ".............Saving Checkpoints: Actor & Critic....................\n",
      "Episode 90\tAverage Score: 6.05\n",
      "Episode 91, Average Score: 6.20, Max: 24.41, Min: 14.20, Time: 30.53\n",
      "Episode 92, Average Score: 6.36, Max: 26.41, Min: 8.18, Time: 30.59\n",
      "Episode 93, Average Score: 6.52, Max: 28.08, Min: 13.25, Time: 30.68\n",
      "Episode 94, Average Score: 6.67, Max: 28.26, Min: 13.34, Time: 30.90\n",
      "Episode 95, Average Score: 6.85, Max: 29.41, Min: 19.29, Time: 30.95\n",
      "Episode 96, Average Score: 7.01, Max: 29.50, Min: 16.17, Time: 30.65\n",
      "Episode 97, Average Score: 7.18, Max: 30.69, Min: 13.88, Time: 30.40\n",
      "Episode 98, Average Score: 7.36, Max: 30.92, Min: 20.12, Time: 30.44\n",
      "Episode 99, Average Score: 7.52, Max: 29.69, Min: 12.28, Time: 30.42\n",
      "Episode 100, Average Score: 7.70, Max: 33.51, Min: 15.42, Time: 30.81\n",
      ".............Saving Checkpoints: Actor & Critic....................\n",
      "Episode 100\tAverage Score: 7.70\n",
      "Episode 101, Average Score: 7.97, Max: 32.68, Min: 21.15, Time: 30.25\n",
      "Episode 102, Average Score: 8.24, Max: 34.64, Min: 16.53, Time: 30.64\n",
      "Episode 103, Average Score: 8.52, Max: 34.70, Min: 22.75, Time: 31.00\n",
      "Episode 104, Average Score: 8.81, Max: 33.84, Min: 21.94, Time: 31.32\n",
      "Episode 105, Average Score: 9.08, Max: 33.63, Min: 16.48, Time: 30.95\n",
      "Episode 106, Average Score: 9.37, Max: 37.70, Min: 21.73, Time: 30.78\n",
      "Episode 107, Average Score: 9.66, Max: 34.70, Min: 19.47, Time: 30.74\n"
     ]
    },
    {
     "name": "stdout",
     "output_type": "stream",
     "text": [
      "Episode 108, Average Score: 9.94, Max: 37.25, Min: 13.64, Time: 30.65\n",
      "Episode 109, Average Score: 10.23, Max: 36.35, Min: 18.91, Time: 31.08\n",
      "Episode 110, Average Score: 10.53, Max: 35.25, Min: 15.50, Time: 31.01\n",
      ".............Saving Checkpoints: Actor & Critic....................\n",
      "Episode 110\tAverage Score: 10.53\n",
      "Episode 111, Average Score: 10.84, Max: 35.79, Min: 18.61, Time: 31.15\n",
      "Episode 112, Average Score: 11.14, Max: 37.95, Min: 21.50, Time: 30.79\n",
      "Episode 113, Average Score: 11.47, Max: 36.22, Min: 27.01, Time: 30.49\n",
      "Episode 114, Average Score: 11.79, Max: 36.87, Min: 20.87, Time: 30.89\n",
      "Episode 115, Average Score: 12.09, Max: 38.70, Min: 21.83, Time: 30.53\n",
      "Episode 116, Average Score: 12.42, Max: 38.12, Min: 24.88, Time: 30.59\n",
      "Episode 117, Average Score: 12.74, Max: 37.61, Min: 20.97, Time: 30.45\n",
      "Episode 118, Average Score: 13.08, Max: 38.15, Min: 30.09, Time: 30.42\n",
      "Episode 119, Average Score: 13.41, Max: 37.74, Min: 24.86, Time: 30.53\n",
      "Episode 120, Average Score: 13.74, Max: 37.37, Min: 23.17, Time: 30.86\n",
      ".............Saving Checkpoints: Actor & Critic....................\n",
      "Episode 120\tAverage Score: 13.74\n",
      "Episode 121, Average Score: 14.05, Max: 38.04, Min: 22.09, Time: 30.56\n",
      "Episode 122, Average Score: 14.38, Max: 39.42, Min: 25.79, Time: 30.56\n",
      "Episode 123, Average Score: 14.72, Max: 39.33, Min: 30.16, Time: 30.95\n",
      "Episode 124, Average Score: 15.04, Max: 39.55, Min: 26.26, Time: 30.44\n",
      "Episode 125, Average Score: 15.38, Max: 38.62, Min: 32.96, Time: 30.42\n",
      "Episode 126, Average Score: 15.71, Max: 39.46, Min: 32.66, Time: 30.77\n",
      "Episode 127, Average Score: 16.07, Max: 38.98, Min: 33.19, Time: 30.36\n",
      "Episode 128, Average Score: 16.41, Max: 39.49, Min: 28.76, Time: 30.37\n",
      "Episode 129, Average Score: 16.76, Max: 39.47, Min: 28.58, Time: 30.42\n",
      "Episode 130, Average Score: 17.11, Max: 39.44, Min: 31.25, Time: 30.98\n",
      ".............Saving Checkpoints: Actor & Critic....................\n",
      "Episode 130\tAverage Score: 17.11\n",
      "Episode 131, Average Score: 17.44, Max: 39.13, Min: 26.18, Time: 30.67\n",
      "Episode 132, Average Score: 17.78, Max: 39.49, Min: 28.09, Time: 30.76\n",
      "Episode 133, Average Score: 18.13, Max: 39.49, Min: 30.26, Time: 30.45\n",
      "Episode 134, Average Score: 18.48, Max: 39.50, Min: 31.65, Time: 30.52\n",
      "Episode 135, Average Score: 18.82, Max: 39.48, Min: 32.10, Time: 30.94\n",
      "Episode 136, Average Score: 19.16, Max: 39.28, Min: 35.34, Time: 31.00\n",
      "Episode 137, Average Score: 19.51, Max: 39.56, Min: 35.69, Time: 30.96\n",
      "Episode 138, Average Score: 19.84, Max: 39.23, Min: 33.79, Time: 30.81\n",
      "Episode 139, Average Score: 20.18, Max: 38.88, Min: 31.34, Time: 30.54\n",
      "Episode 140, Average Score: 20.51, Max: 38.71, Min: 35.78, Time: 30.90\n",
      ".............Saving Checkpoints: Actor & Critic....................\n",
      "Episode 140\tAverage Score: 20.51\n",
      "Episode 141, Average Score: 20.85, Max: 39.57, Min: 35.42, Time: 30.95\n",
      "Episode 142, Average Score: 21.19, Max: 39.47, Min: 32.97, Time: 30.68\n",
      "Episode 143, Average Score: 21.52, Max: 39.11, Min: 32.46, Time: 30.90\n",
      "Episode 144, Average Score: 21.86, Max: 39.21, Min: 35.61, Time: 30.99\n",
      "Episode 145, Average Score: 22.20, Max: 38.78, Min: 36.12, Time: 30.97\n",
      "Episode 146, Average Score: 22.53, Max: 39.60, Min: 33.12, Time: 30.54\n",
      "Episode 147, Average Score: 22.86, Max: 39.43, Min: 31.97, Time: 30.63\n",
      "Episode 148, Average Score: 23.19, Max: 38.90, Min: 35.64, Time: 30.50\n",
      "Episode 149, Average Score: 23.53, Max: 39.59, Min: 32.77, Time: 30.47\n",
      "Episode 150, Average Score: 23.85, Max: 39.31, Min: 35.47, Time: 30.49\n",
      ".............Saving Checkpoints: Actor & Critic....................\n",
      "Episode 150\tAverage Score: 23.85\n",
      "Episode 151, Average Score: 24.17, Max: 39.22, Min: 32.83, Time: 30.98\n",
      "Episode 152, Average Score: 24.48, Max: 39.50, Min: 36.27, Time: 30.64\n",
      "Episode 153, Average Score: 24.81, Max: 39.55, Min: 35.43, Time: 30.70\n",
      "Episode 154, Average Score: 25.13, Max: 39.08, Min: 29.21, Time: 30.55\n",
      "Episode 155, Average Score: 25.44, Max: 39.55, Min: 26.60, Time: 30.51\n",
      "Episode 156, Average Score: 25.77, Max: 39.42, Min: 36.47, Time: 31.09\n",
      "Episode 157, Average Score: 26.08, Max: 39.55, Min: 35.92, Time: 31.08\n",
      "Episode 158, Average Score: 26.39, Max: 39.16, Min: 35.42, Time: 31.07\n",
      "Episode 159, Average Score: 26.70, Max: 39.17, Min: 36.74, Time: 30.94\n",
      "Episode 160, Average Score: 27.01, Max: 39.52, Min: 34.50, Time: 30.90\n",
      ".............Saving Checkpoints: Actor & Critic....................\n",
      "Episode 160\tAverage Score: 27.01\n",
      "Episode 161, Average Score: 27.32, Max: 39.46, Min: 36.70, Time: 30.72\n",
      "Episode 162, Average Score: 27.62, Max: 39.58, Min: 34.56, Time: 30.56\n",
      "Episode 163, Average Score: 27.94, Max: 39.64, Min: 34.23, Time: 30.52\n",
      "Episode 164, Average Score: 28.25, Max: 39.45, Min: 33.61, Time: 30.65\n",
      "Episode 165, Average Score: 28.55, Max: 39.60, Min: 24.42, Time: 30.52\n",
      "Episode 166, Average Score: 28.85, Max: 39.63, Min: 36.07, Time: 30.84\n",
      "Episode 167, Average Score: 29.15, Max: 39.19, Min: 34.33, Time: 31.05\n",
      "Episode 168, Average Score: 29.45, Max: 39.33, Min: 25.23, Time: 30.88\n",
      "Episode 169, Average Score: 29.75, Max: 39.37, Min: 36.31, Time: 31.01\n",
      "Episode 170, Average Score: 30.06, Max: 39.54, Min: 36.50, Time: 31.09\n",
      ".............Saving Checkpoints: Actor & Critic....................\n",
      "Episode 170\tAverage Score: 30.06\n",
      "\n",
      "Environment solved in 170 episodes!\tAverage Score: 30.06\n",
      ".............Saving Checkpoints: Actor & Critic....................\n"
     ]
    }
   ],
   "source": [
    "scores = ddpg()"
   ]
  },
  {
   "cell_type": "markdown",
   "metadata": {},
   "source": [
    "# 7. Plot of Rewards  ¶"
   ]
  },
  {
   "cell_type": "code",
   "execution_count": 9,
   "metadata": {},
   "outputs": [
    {
     "data": {
      "image/png": "[encoded data removed]",
      "text/plain": [
       "<Figure size 432x288 with 1 Axes>"
      ]
     },
     "metadata": {},
     "output_type": "display_data"
    }
   ],
   "source": [
    "fig = plt.figure()\n",
    "ax = fig.add_subplot(111)\n",
    "plt.plot(np.arange(1, len(scores)+1), scores)\n",
    "plt.ylabel('Score')\n",
    "plt.xlabel('Episode #')\n",
    "plt.show()"
   ]
  },
  {
   "cell_type": "markdown",
   "metadata": {},
   "source": [
    "# 8. Watch the Smart Agent¶"
   ]
  },
  {
   "cell_type": "code",
   "execution_count": 13,
   "metadata": {},
   "outputs": [],
   "source": [
    "#load the weights from file\n",
    "agent.actor_local.load_state_dict(torch.load('./cp/cp_actor_cc_agent.pth', map_location='cpu'))\n",
    "agent.critic_local.load_state_dict(torch.load('./cp/cp_critic_cc_agent.pth', map_location='cpu'))"
   ]
  },
  {
   "cell_type": "code",
   "execution_count": 14,
   "metadata": {},
   "outputs": [
    {
     "name": "stdout",
     "output_type": "stream",
     "text": [
      "Total score (averaged over agents) this episode: 25.69949942557141\n"
     ]
    }
   ],
   "source": [
    "env_info = env.reset(train_mode=False)[brain_name]     # reset the environment    \n",
    "states = env_info.vector_observations                  # get the current state (for each agent)\n",
    "scores = np.zeros(num_agents)                          # initialize the score (for each agent)\n",
    "while True:\n",
    "    actions = agent.act(states)                        # select an action (for each agent)\n",
    "    env_info = env.step(actions)[brain_name]           # send all actions to tne environment\n",
    "    next_states = env_info.vector_observations         # get next state (for each agent)\n",
    "    rewards = env_info.rewards                         # get reward (for each agent)\n",
    "    dones = env_info.local_done                        # see if episode finished\n",
    "    scores += env_info.rewards                         # update the score (for each agent)\n",
    "    states = next_states                               # roll over states to next time step\n",
    "    if np.any(dones):                                  # exit loop if episode finished\n",
    "        break\n",
    "print('Total score (averaged over agents) this episode: {}'.format(np.mean(scores)))"
   ]
  },
  {
   "cell_type": "code",
   "execution_count": null,
   "metadata": {},
   "outputs": [],
   "source": []
  }
 ],
 "metadata": {
  "kernelspec": {
   "display_name": "Python 3",
   "language": "python",
   "name": "python3"
  },
  "language_info": {
   "codemirror_mode": {
    "name": "ipython",
    "version": 3
   },
   "file_extension": ".py",
   "mimetype": "text/x-python",
   "name": "python",
   "nbconvert_exporter": "python",
   "pygments_lexer": "ipython3",
   "version": "3.6.6"
  },
  "varInspector": {
   "cols": {
    "lenName": 16,
    "lenType": 16,
    "lenVar": 40
   },
   "kernels_config": {
    "python": {
     "delete_cmd_postfix": "",
     "delete_cmd_prefix": "del ",
     "library": "var_list.py",
     "varRefreshCmd": "print(var_dic_list())"
    },
    "r": {
     "delete_cmd_postfix": ") ",
     "delete_cmd_prefix": "rm(",
     "library": "var_list.r",
     "varRefreshCmd": "cat(var_dic_list()) "
    }
   },
   "types_to_exclude": [
    "module",
    "function",
    "builtin_function_or_method",
    "instance",
    "_Feature"
   ],
   "window_display": false
  }
 },
 "nbformat": 4,
 "nbformat_minor": 2
}
